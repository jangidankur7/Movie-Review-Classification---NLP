{
 "cells": [
  {
   "cell_type": "markdown",
   "metadata": {},
   "source": [
    "### Create a NLP pipeline to 'CLEAN' Review Data :\n",
    "\n",
    "- Load input file and read reviews \n",
    "- Tokenize\n",
    "- Remove stopwords\n",
    "- Preform stemming\n",
    "- Write clean data to output file"
   ]
  },
  {
   "cell_type": "code",
   "execution_count": 9,
   "metadata": {},
   "outputs": [],
   "source": [
    "sample_text = \"\"\" This movie is another one on my List of \n",
    "Movies Not To Bother With. \n",
    "Saw it 40 years ago as an adolescent, stayed up late to do so, was \n",
    "very annoyed to find that \n",
    "it was about 95% romance,4% everything else, 1% history if that. \n",
    "It's what I call a bait and switch movie, one with an interesting \n",
    "title, the actual movie is a scam. \n",
    "This is a subject which deserves a good cinematic treatment, \n",
    "this movie is almost an insult to those who served.\n",
    "The actual members of the Lafayette Escadrille were not \n",
    "on the run from the law nor were they the products of abusive homes, \n",
    "they were in reality idealists who wanted to do something to \n",
    "help France. And I suspect many of them came from a more upper\n",
    "class background than Tab Hunter's character. \n",
    "Flying school is not for the smart alecks and the know it alls, \n",
    "an individual such as the one portrayed here wouldn't have lasted \n",
    "two days, it would have either been the stockade or the infantry. \n",
    "Discipline in the French Army was often rather fierce. In short, \n",
    "another Hollywierd version of an historical episode that \n",
    "deserves proper treatment.\"\"\""
   ]
  },
  {
   "cell_type": "markdown",
   "metadata": {},
   "source": [
    "## NLTK"
   ]
  },
  {
   "cell_type": "code",
   "execution_count": 5,
   "metadata": {},
   "outputs": [],
   "source": [
    "from nltk.tokenize import RegexpTokenizer\n",
    "from nltk.stem.porter import PorterStemmer\n",
    "from nltk.corpus import stopwords"
   ]
  },
  {
   "cell_type": "code",
   "execution_count": 6,
   "metadata": {},
   "outputs": [],
   "source": [
    "### Initialize objects\n",
    "\n",
    "tokennizer = RegexpTokenizer(r'\\w+')\n",
    "en_stopwords = set(stopwords.words('english'))\n",
    "ps = PorterStemmer()\n",
    "\n"
   ]
  },
  {
   "cell_type": "code",
   "execution_count": 7,
   "metadata": {},
   "outputs": [],
   "source": [
    "def getStemmedReview(review) :\n",
    "    review = review.lower()\n",
    "    review = review.replace(\"<br />br />\",\" \")\n",
    "    \n",
    "    ## Tokenize\n",
    "    \n",
    "    tokens = tokennizer.tokenize(review)\n",
    "    new_tokens = (token for token in tokens if token not in en_stopwords)\n",
    "    stemmed_tokens = [(ps.stem(token)) for token in new_tokens]\n",
    "    \n",
    "    cleaned_review = ' '.join(stemmed_tokens)\n",
    "    \n",
    "    return cleaned_review\n",
    "    \n",
    "    "
   ]
  },
  {
   "cell_type": "code",
   "execution_count": 8,
   "metadata": {},
   "outputs": [
    {
     "data": {
      "text/plain": [
       "'movi anoth one list movi bother saw 40 year ago adolesc stay late annoy find 95 romanc 4 everyth els 1 histori call bait switch movi one interest titl actual movi scam subject deserv good cinemat treatment movi almost insult serv actual member lafayett escadril run law product abus home realiti idealist want someth help franc suspect mani came upper class background tab hunter charact fli school smart aleck know all individu one portray last two day would either stockad infantri disciplin french armi often rather fierc short anoth hollywierd version histor episod deserv proper treatment'"
      ]
     },
     "execution_count": 8,
     "metadata": {},
     "output_type": "execute_result"
    }
   ],
   "source": [
    "getStemmedReview(sample_text)"
   ]
  },
  {
   "cell_type": "code",
   "execution_count": 10,
   "metadata": {},
   "outputs": [
    {
     "data": {
      "text/plain": [
       "\" This movie is another one on my List of Movies Not To Bother With. Saw it 40 years ago as an adolescent, stayed up late to do so, was very annoyed to find that it was about 95% romance,4% everything else, 1% history if that. It's what I call a bait and switch movie, one with an interesting title, the actual movie is a scam. This is a subject which deserves a good cinematic treatment, this movie is almost an insult to those who served. The actual members of the Lafayette Escadrille were not on the run from the law nor were they the products of abusive homes, they were in reality idealists who wanted to do something to help France. And I suspect many of them came from a more upper class background than Tab Hunter's character. Flying school is not for the smart alecks and the know it alls, an individual such as the one portrayed here wouldn't have lasted two days, it would have either been the stockade or the infantry. Discipline in the French Army was often rather fierce. In short, another Hollywierd version of an historical episode that deserves proper treatment.\""
      ]
     },
     "execution_count": 10,
     "metadata": {},
     "output_type": "execute_result"
    }
   ],
   "source": [
    "sample_text"
   ]
  },
  {
   "cell_type": "code",
   "execution_count": 11,
   "metadata": {},
   "outputs": [],
   "source": [
    "## Now we write a function that accepts input file and return clean file o movie review"
   ]
  },
  {
   "cell_type": "code",
   "execution_count": 12,
   "metadata": {},
   "outputs": [
    {
     "ename": "NameError",
     "evalue": "name 'sys' is not defined",
     "output_type": "error",
     "traceback": [
      "\u001b[0;31m---------------------------------------------------------------------------\u001b[0m",
      "\u001b[0;31mNameError\u001b[0m                                 Traceback (most recent call last)",
      "\u001b[0;32m<ipython-input-12-4e0869bfc26a>\u001b[0m in \u001b[0;36m<module>\u001b[0;34m\u001b[0m\n\u001b[1;32m     15\u001b[0m \u001b[0;31m## Read command line arguments\u001b[0m\u001b[0;34m\u001b[0m\u001b[0;34m\u001b[0m\u001b[0;34m\u001b[0m\u001b[0m\n\u001b[1;32m     16\u001b[0m \u001b[0;34m\u001b[0m\u001b[0m\n\u001b[0;32m---> 17\u001b[0;31m \u001b[0minputFile\u001b[0m \u001b[0;34m=\u001b[0m \u001b[0msys\u001b[0m\u001b[0;34m.\u001b[0m\u001b[0margv\u001b[0m\u001b[0;34m[\u001b[0m\u001b[0;36m1\u001b[0m\u001b[0;34m]\u001b[0m\u001b[0;34m\u001b[0m\u001b[0;34m\u001b[0m\u001b[0m\n\u001b[0m\u001b[1;32m     18\u001b[0m \u001b[0moutputFile\u001b[0m \u001b[0;34m=\u001b[0m \u001b[0msys\u001b[0m\u001b[0;34m.\u001b[0m\u001b[0margv\u001b[0m\u001b[0;34m[\u001b[0m\u001b[0;36m2\u001b[0m\u001b[0;34m]\u001b[0m\u001b[0;34m\u001b[0m\u001b[0;34m\u001b[0m\u001b[0m\n\u001b[1;32m     19\u001b[0m \u001b[0mgetStemmedDoct\u001b[0m\u001b[0;34m(\u001b[0m\u001b[0minputFile\u001b[0m\u001b[0;34m,\u001b[0m\u001b[0moutputFile\u001b[0m\u001b[0;34m)\u001b[0m\u001b[0;34m\u001b[0m\u001b[0;34m\u001b[0m\u001b[0m\n",
      "\u001b[0;31mNameError\u001b[0m: name 'sys' is not defined"
     ]
    }
   ],
   "source": [
    "def getStemmedDoc(inputFile,outputFile):\n",
    "    \n",
    "    out = open(outputFile,'w')\n",
    "    \n",
    "    with open(inputFile) as f:\n",
    "        reviews = f.readlines()\n",
    "        \n",
    "        for review in reviews :\n",
    "            cleaned_review = getStemmedReview(review)\n",
    "            print((cleaned_review),file=out)\n",
    " \n",
    "    out.close()\n",
    "    \n",
    "    \n",
    "## Read command line arguments\n",
    "\n",
    "inputFile = sys.argv[1]\n",
    "outputFile = sys.argv[2]\n",
    "getStemmedDoct(inputFile,outputFile)\n",
    "\n",
    "\n",
    "\n",
    "## run this code on command prompt and give input and output file name"
   ]
  },
  {
   "cell_type": "code",
   "execution_count": null,
   "metadata": {},
   "outputs": [],
   "source": []
  }
 ],
 "metadata": {
  "kernelspec": {
   "display_name": "Python 3",
   "language": "python",
   "name": "python3"
  },
  "language_info": {
   "codemirror_mode": {
    "name": "ipython",
    "version": 3
   },
   "file_extension": ".py",
   "mimetype": "text/x-python",
   "name": "python",
   "nbconvert_exporter": "python",
   "pygments_lexer": "ipython3",
   "version": "3.8.3"
  }
 },
 "nbformat": 4,
 "nbformat_minor": 4
}
